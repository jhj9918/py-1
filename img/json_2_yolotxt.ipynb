{
 "cells": [
  {
   "cell_type": "markdown",
   "metadata": {},
   "source": [
    "## train test 나누기"
   ]
  },
  {
   "cell_type": "code",
   "execution_count": 2,
   "metadata": {},
   "outputs": [
    {
     "name": "stderr",
     "output_type": "stream",
     "text": [
      "Copying files: 534 files [00:01, 365.29 files/s]\n"
     ]
    }
   ],
   "source": [
    "# 이미지 , json 같이 있는 폴더 train,val,test 나누기 (마지막 폴더 안에 클래스 구분 폴더 있어야 함)\n",
    "import splitfolders\n",
    "splitfolders.ratio('클래스 구분 윗 폴더 경로', output='결과 경로', seed=2022, ratio=(0.8, 0.1, 0.1), group_prefix=2)"
   ]
  },
  {
   "cell_type": "markdown",
   "metadata": {},
   "source": [
    "## json to yolo txt"
   ]
  },
  {
   "cell_type": "code",
   "execution_count": 4,
   "metadata": {},
   "outputs": [],
   "source": [
    "import os\n",
    "from os import walk, getcwd\n",
    "from PIL import Image\n",
    "import json"
   ]
  },
  {
   "cell_type": "code",
   "execution_count": 5,
   "metadata": {},
   "outputs": [],
   "source": [
    "def convert(size, box):\n",
    "    dw = 1./size[0]\n",
    "    dh = 1./size[1]\n",
    "    x = (box[0] + box[1])/2.0\n",
    "    y = (box[2] + box[3])/2.0\n",
    "    w = box[1] - box[0]\n",
    "    h = box[3] - box[2]\n",
    "    x = x*dw\n",
    "    w = w*dw\n",
    "    y = y*dh\n",
    "    h = h*dh\n",
    "    return (x,y,w,h)\n",
    "    \n",
    "    "
   ]
  },
  {
   "cell_type": "code",
   "execution_count": null,
   "metadata": {},
   "outputs": [],
   "source": [
    "\"\"\"-------------------------------------------------------------------\"\"\" \n",
    "\n",
    "\"\"\" Configure Paths\"\"\"   \n",
    "mypath = \"\" # train img 경로\n",
    "outpath = \"\" # train labels 경로\n",
    "json_backup =\"\" # json 백업할 경로\n",
    "\n",
    "wd = getcwd()\n",
    "list_file = open('%s_list.txt'%(wd), 'w')\n",
    "\n",
    "\"\"\" Get input json file list \"\"\"\n",
    "json_name_list = []\n",
    "for file in os.listdir(mypath):\n",
    "    if file.endswith(\".json\"):\n",
    "        json_name_list.append(file)\n",
    "\n",
    "\"\"\" Process \"\"\"\n",
    "for json_name in json_name_list:\n",
    "    txt_name = json_name.rstrip(\".json\") + \".txt\"\n",
    "    \"\"\" Open input text files \"\"\"\n",
    "    txt_path = mypath + json_name\n",
    "    print(\"Input:\" + txt_path)\n",
    "    txt_file = open(txt_path, \"r\")\n",
    "\n",
    "    \"\"\" Open output text files \"\"\"\n",
    "    txt_outpath = outpath + txt_name\n",
    "    print(\"Output:\" + txt_outpath)\n",
    "    txt_outfile = open(txt_outpath, \"a\")\n",
    "\n",
    "    \"\"\" Convert the data to YOLO format \"\"\" \n",
    "    #lines = txt_file.read().split('\\n')   #for ubuntu, use \"\\r\\n\" for windows use \"\\n\"\n",
    "    js_dict = json.load(txt_file)\n",
    "    ############################################################################################\n",
    "    for idx, box_list in enumerate(js_dict['shapes']):\n",
    "        x1 = box_list['points'][0][0]\n",
    "        y1 = box_list['points'][0][1]\n",
    "        x2 = box_list['points'][1][0]\n",
    "        y2 = box_list['points'][1][1]\n",
    "\n",
    "        # 라벨을 숫자로 지정\n",
    "        if box_list['label'] == 'ps':\n",
    "            cls = '0'\n",
    "\t    #in case when labelling, points are not in the right order\n",
    "        xmin = min(x1,x2)\n",
    "        xmax = max(x1,x2)\n",
    "        ymin = min(y1,y2)\n",
    "        ymax = max(y1,y2)\n",
    "        img_path = str('%s%s.jpg'%(mypath, os.path.splitext(json_name)[0]))\n",
    "\n",
    "        im=Image.open(img_path)\n",
    "        w= int(im.size[0])\n",
    "        h= int(im.size[1])\n",
    "\n",
    "        print(w, h)\n",
    "        print(xmin, xmax, ymin, ymax)\n",
    "        b = (xmin, xmax, ymin, ymax)\n",
    "        bb = convert((w,h), b)\n",
    "        print(bb)\n",
    "        txt_outfile.write(cls + \" \" + \" \".join([str(a) for a in bb]) + '\\n')\n",
    "\n",
    "    os.rename(txt_path,json_backup+json_name)\t#move json file to backup folder\n",
    "\n",
    "    \"\"\" Save those images with bb into list\"\"\"\n",
    "    if(txt_file.read().count(\"label\") != 0):\n",
    "        list_file.write('%s/dataset/%s.jpg\\n'%(wd, os.path.splitext(txt_name)[0]))\n",
    "            \n",
    "list_file.close()      "
   ]
  }
 ],
 "metadata": {
  "interpreter": {
   "hash": "1fa1c3bda4c278fb76e2aeca93ebb14596ce5096c5a0bdf3b6c07c256293942c"
  },
  "kernelspec": {
   "display_name": "Python 3.9.7 ('base')",
   "language": "python",
   "name": "python3"
  },
  "language_info": {
   "codemirror_mode": {
    "name": "ipython",
    "version": 3
   },
   "file_extension": ".py",
   "mimetype": "text/x-python",
   "name": "python",
   "nbconvert_exporter": "python",
   "pygments_lexer": "ipython3",
   "version": "3.9.7"
  },
  "orig_nbformat": 4
 },
 "nbformat": 4,
 "nbformat_minor": 2
}
