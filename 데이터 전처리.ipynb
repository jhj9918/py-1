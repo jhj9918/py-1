{
 "cells": [
  {
   "cell_type": "markdown",
   "id": "46382b73",
   "metadata": {},
   "source": [
    "## 데이터 파악"
   ]
  },
  {
   "cell_type": "markdown",
   "id": "b58f02e6",
   "metadata": {},
   "source": [
    "df.head()\n",
    "\n",
    "df.tail()\n",
    "\n",
    "df.info()\n",
    "\n",
    "df.describe()"
   ]
  },
  {
   "cell_type": "markdown",
   "id": "b808b749",
   "metadata": {},
   "source": [
    "---------------------------------------------------------------"
   ]
  },
  {
   "cell_type": "markdown",
   "id": "34112ffc",
   "metadata": {},
   "source": [
    "## 결측치 파악"
   ]
  },
  {
   "cell_type": "markdown",
   "id": "189e7800",
   "metadata": {},
   "source": [
    "df.isnull().sum()\n",
    "\n",
    "----------------------------------\n",
    "\n",
    "시각화\n",
    "\n",
    "pip install missingno\n",
    "import missingno as msno\n",
    "\n",
    "msno.matrix(df)\n",
    "\n",
    "msno.bar(df)"
   ]
  },
  {
   "cell_type": "markdown",
   "id": "11f16720",
   "metadata": {},
   "source": [
    "------------------------------------------------------"
   ]
  },
  {
   "cell_type": "markdown",
   "id": "fe662974",
   "metadata": {},
   "source": [
    "## 결측값 처리"
   ]
  },
  {
   "cell_type": "markdown",
   "id": "ef4cf8fb",
   "metadata": {},
   "source": [
    "df.dropna() # 모든 행 삭제\n",
    "\n",
    "df.dropna(how='all') # 모든 값이 결측값인 행 삭제\n",
    "\n",
    "df.dropna(subset=['a','b']) # 해당 칼럼의 결측치 행 삭제\n",
    "\n",
    "df.dropna(tresh=n) # 정상 값이 n개 이하면 행 삭제\n",
    "\n",
    "df.dropna(axis=1) # 열 삭제\n",
    "\n",
    "df.dropna(axis=1, subset=['a','b']) # 열 선택 삭제(결측 값을 하나라도 가지면 삭제)\n",
    "\n",
    "---------------------------------------------------------------------------------"
   ]
  },
  {
   "cell_type": "markdown",
   "id": "e9642b2b",
   "metadata": {},
   "source": [
    "df.fillna(a) # a로 결측값 대체\n",
    "\n",
    "df.fillna(method='ffill') # 직전 행의 값으로 대체\n",
    "\n",
    "df.fillna(method='bfill') # 바로 밑 행의 값으로 대체\n",
    "\n",
    "df['a'].fillna('최빈값') # value최빈값으로 대체\n",
    "\n",
    "df['a'].replace(np.nan, df['a'].mean()) # a 열의 nan 값을 평균 값으로 대체"
   ]
  },
  {
   "cell_type": "markdown",
   "id": "0ed0678c",
   "metadata": {},
   "source": [
    "----------------------------------------------"
   ]
  },
  {
   "cell_type": "markdown",
   "id": "44134b74",
   "metadata": {},
   "source": [
    "## 중복 값 처리"
   ]
  },
  {
   "cell_type": "markdown",
   "id": "31400f63",
   "metadata": {},
   "source": [
    "df.duplicated(['a','b']) # 특정 열 기준 중복값 확인, True면 중복\n",
    "\n",
    "df.drop_duplicates() # 전체 컬럼 기준 중복 행 삭제\n",
    "\n",
    "set() -> list() # 자동으로 중복 값 제거 후 정렬\n",
    "\n",
    "for value in l :  # not in 사용\n",
    "\n",
    "if value not in result : \n",
    "\n",
    "result.append(value)\n"
   ]
  },
  {
   "cell_type": "markdown",
   "id": "33697558",
   "metadata": {},
   "source": [
    "-------------------------------------------------"
   ]
  },
  {
   "cell_type": "markdown",
   "id": "ccd9617b",
   "metadata": {},
   "source": [
    "## 불균형 데이터 처리"
   ]
  },
  {
   "cell_type": "markdown",
   "id": "142c9ae9",
   "metadata": {},
   "source": [
    "from imblearn.under_sampling import * # 언더 샘플링\n",
    "\n",
    "x_us , y_us = RandomUnderSampler().fit_resample(X,y) # 랜덤 언더 샘플링\n",
    "\n",
    "x_us , y_us = TomekLinks().fit_resample(X,y) # 토멕링크\n",
    "\n",
    "x_us , y_us = CondensedNearestNeighbour().fit_resample(X,y) # CNN\n",
    "\n",
    "--------------------------------------------------------------\n",
    "\n",
    "from imblearn.over_sampling import * # 오버 샘플링\n",
    "\n",
    "x_os, y_os = RandomOverSampler().fit_resample(X,y) # 랜덤 오버 샘플링\n",
    "\n",
    "x_os, y_os = SMOTE().fit_resample(X,y) # SMOTE\n",
    "\n",
    "x_os, y_os = ADASYN().fit_resample(X,y) # ADASYN"
   ]
  },
  {
   "cell_type": "markdown",
   "id": "ecedf24d",
   "metadata": {},
   "source": [
    "---------------------------------------------------------------------------------"
   ]
  },
  {
   "cell_type": "markdown",
   "id": "b7d09b48",
   "metadata": {},
   "source": [
    "## 인코딩"
   ]
  },
  {
   "cell_type": "markdown",
   "id": "46ca32df",
   "metadata": {},
   "source": [
    "from sklearn.preprocessing import LabelEncoder # 레이블 인코딩\n",
    "\n",
    "encoder = LabelEncoder()\n",
    "\n",
    "labels = encoder.fit_transform(x) \n",
    "\n",
    "인코더.classes_ # 속성 값 확인\n",
    "\n",
    "inverse_transform() # 디코딩\n",
    "\n",
    "--------------------------------------------------------------\n",
    "\n",
    "maping = {'a':1, 'b':2, 'c':3} # 매핑 지정 인코딩, [[]] 데이터 프레임 형태 사용\n",
    "\n",
    "df[['label']] = df[['class']].applymap(maping.get) "
   ]
  },
  {
   "cell_type": "markdown",
   "id": "4838c6d1",
   "metadata": {},
   "source": [
    "-------------------------------------------------------------"
   ]
  },
  {
   "cell_type": "markdown",
   "id": "e572670f",
   "metadata": {},
   "source": [
    "## 원 핫 인코딩"
   ]
  },
  {
   "cell_type": "markdown",
   "id": "ef0000b8",
   "metadata": {},
   "source": [
    "from sklearn.preprocessing import OneHotEncoder\n",
    "\n",
    "encoder = OneHotEncoder(sparse=False) # sparse=False 옵션으로 array 형태 값 반환\n",
    "\n",
    "x = encoder.fit_transfrom(df['a'])"
   ]
  },
  {
   "cell_type": "markdown",
   "id": "2a86ab88",
   "metadata": {},
   "source": [
    "---------------------------------------------------"
   ]
  },
  {
   "cell_type": "markdown",
   "id": "69b1ee95",
   "metadata": {},
   "source": [
    "## 피쳐 스케일링"
   ]
  },
  {
   "cell_type": "markdown",
   "id": "915be321",
   "metadata": {},
   "source": [
    "from sklearn.preprocessing import StandardScaler # 표준화\n",
    "\n",
    "scaler = StandardScaler()\n",
    "\n",
    "scaled = scaler.fit_transform(df)\n",
    "\n",
    "---------------------------------------------------------------\n",
    "\n",
    "from sklearn.preprocessing import MinMaxScaler() # 정규화\n",
    "\n",
    "scaler = MinMaxScaler()\n",
    "\n",
    "a = scaler.fit_transform(df) # ndarray결과 반환 , Dataframe으로 변환 필요\n",
    "\n",
    "-------------------------------------------------------------------\n",
    "\n",
    "t = df['a'].values.reshape(-1,1) # reshape를 통해 array 로 변환해서 사용\n",
    "\n",
    "scaled = scaler.fit_transform(t)\n",
    "\n",
    "df['scaled'] = pd.Series(scaled.reshape(-1)) # 다시 변환"
   ]
  }
 ],
 "metadata": {
  "kernelspec": {
   "display_name": "Python 3",
   "language": "python",
   "name": "python3"
  },
  "language_info": {
   "codemirror_mode": {
    "name": "ipython",
    "version": 3
   },
   "file_extension": ".py",
   "mimetype": "text/x-python",
   "name": "python",
   "nbconvert_exporter": "python",
   "pygments_lexer": "ipython3",
   "version": "3.8.8"
  }
 },
 "nbformat": 4,
 "nbformat_minor": 5
}
