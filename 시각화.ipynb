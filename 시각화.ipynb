{
 "cells": [
  {
   "cell_type": "markdown",
   "id": "52868cb1",
   "metadata": {},
   "source": [
    "## matplotlib"
   ]
  },
  {
   "cell_type": "code",
   "execution_count": 1,
   "id": "87111494",
   "metadata": {},
   "outputs": [],
   "source": [
    "import matplotlib.pyplot as plt\n",
    "import pandas as pd\n",
    "\n",
    "labels = ['kor', 'math','eng',' sci']\n",
    "scores = [80,90,75,100]"
   ]
  },
  {
   "cell_type": "markdown",
   "id": "f5c5cc01",
   "metadata": {},
   "source": [
    "## 막대그래프"
   ]
  },
  {
   "cell_type": "markdown",
   "id": "b5a5bb76",
   "metadata": {},
   "source": [
    "###### 세로형 : plt.bar(labels, scores, align='center', color='green', alpha=0.5 )\n",
    "\n",
    "###### 가로형 : plt.barh() \n",
    "\n",
    "###### 틱 위치 : align= 'center'(디폴트) or 'edge'\n",
    "\n",
    "###### 눈금\n",
    "plt.xticks(labels, fontsize=15, rotation=30)\n",
    "fontsize=폰트사이즈, rotation=각도\n",
    "\n",
    "\n",
    "plt.yticks(fontsize=15, rotation=30)\n",
    "\n",
    "\n",
    "\n",
    "plt.xlim(최소, 최대)\n",
    "plt.ylim(최소, 최대)\n",
    "\n",
    "###### 축 제목, 타이틀\n",
    "plt.xlabel('X', fontsize=15)\n",
    "\n",
    "plt.ylabel('Y', fontsize=15)\n",
    "\n",
    "plt.title('title', fontsize=20)\n",
    "\n",
    "\n",
    "###### 범례\n",
    "plt.legend() 'upper right', 'lower left', 'center' 등등으로 위치 지정"
   ]
  },
  {
   "cell_type": "markdown",
   "id": "f7079056",
   "metadata": {},
   "source": [
    "###### 범주별 구분된 여러 열의 막대 그래프\n",
    "df.plot(x='범주', y=['a','b','c'], kind=bar, figsize(9,8))\n",
    "\n",
    "\n",
    "df.plot(x='범주', y=['a','b','c'], kind=barh, figsize(9,8))\n",
    "\n",
    "###### 누적 막대 그래프 -> 인덱스가 x(범주)축\n",
    "df.plot(kind='bar',stacked=True, figsize=(10,8))"
   ]
  },
  {
   "cell_type": "markdown",
   "id": "35fb71f5",
   "metadata": {},
   "source": [
    "## 파이차트"
   ]
  },
  {
   "cell_type": "markdown",
   "id": "5009b5de",
   "metadata": {},
   "source": [
    "plt.pie(값,\n",
    "\n",
    "labels=이름, # 파이차트 밖에 표시\n",
    "\n",
    "autopct=파이차트 내 수치 표현 \n",
    "\n",
    "autopct= '%1.1f' : 소수점 첫째 자리\n",
    "\n",
    "autopct= '%.1f%%' : 소수점 첫째 자리까지 + 뒤에 %표시\n",
    "\n",
    "autopct= '%d%%' : 가장 가까운 정수로 반올림하고 뒤에 % 표시,\n",
    "\n",
    "explode= 파이조각 튀어 나오게 설정, ex) (0.3,0,0)\n",
    "\n",
    "shadow= True / False, #그림자\n",
    "\n",
    "startangle=90   # 그리기 시작 각도 지정\n",
    "\n",
    "countclock=False # 시계 방향으로 영역 표시\n",
    "\n",
    "wedgeprops={'width':0.7, 'edgecolor':'w', 'linewidth':5} # 부채꼴 스타일 설정\n",
    "\n",
    ")\n",
    "\n",
    "plt.show()"
   ]
  },
  {
   "cell_type": "markdown",
   "id": "e454129f",
   "metadata": {},
   "source": [
    "## 선 그래프 \n",
    "( plt.plot 여러개 생성 후 plt.show() 하면 선 그래프 여러 개 나옴)"
   ]
  },
  {
   "cell_type": "markdown",
   "id": "cc38f640",
   "metadata": {},
   "source": [
    "plt.plot(x,y,\n",
    "\n",
    "color='green', # 색 지정\n",
    "         \n",
    "marker='o',\n",
    "         \n",
    "linestyle='solid'/'dotted'등 ,\n",
    "         \n",
    "label = ('이름') #범례\n",
    "         \n",
    ")"
   ]
  },
  {
   "cell_type": "markdown",
   "id": "d918cb22",
   "metadata": {},
   "source": [
    "## 히스토그램"
   ]
  },
  {
   "cell_type": "markdown",
   "id": "76891fcb",
   "metadata": {},
   "source": [
    "plt.hist(x,\n",
    "\n",
    "bins=30, # 몇개 영역으로 나눌지 지정\n",
    "\n",
    "density=True, # True일 때 정규화, 히스토그램 면적값 1이됨\n",
    "\n",
    "cumulative=True, # 누적 분포\n",
    "\n",
    "color='orange',\n",
    "\n",
    "alpha=0.5\n",
    ")\n",
    "\n",
    "plt.legend(['h1', 'h2'], fontsize=15) # 히스토그램 두 개 이상인 경우 리스트 형태로 지정\n",
    "\n",
    "plt.show()"
   ]
  },
  {
   "cell_type": "markdown",
   "id": "26a96143",
   "metadata": {},
   "source": [
    "---------------------------------"
   ]
  },
  {
   "cell_type": "markdown",
   "id": "7830cb12",
   "metadata": {},
   "source": [
    "## 박스 플롯"
   ]
  },
  {
   "cell_type": "markdown",
   "id": "49cede75",
   "metadata": {},
   "source": [
    "plt.boxplot(data,\n",
    "\n",
    "vert=False, # 가로 형태\n",
    "\n",
    ")"
   ]
  },
  {
   "cell_type": "markdown",
   "id": "157fc280",
   "metadata": {},
   "source": [
    "------------------------------------"
   ]
  },
  {
   "cell_type": "markdown",
   "id": "93872d24",
   "metadata": {},
   "source": [
    "## 산점도"
   ]
  },
  {
   "cell_type": "markdown",
   "id": "adf56ea3",
   "metadata": {},
   "source": [
    "plt.scatter(x=df['a'], y=df['b'],\n",
    "\n",
    "c='coral', # 색 지정\n",
    "\n",
    "s=10, # 점 크기 지정\n",
    "\n",
    "alpha=0.7 # 투명도\n",
    "\n",
    ")"
   ]
  },
  {
   "cell_type": "markdown",
   "id": "64955910",
   "metadata": {},
   "source": [
    "----------------------------------------------------------------------------------"
   ]
  },
  {
   "cell_type": "markdown",
   "id": "c9c7d3c6",
   "metadata": {},
   "source": [
    "# seaborn\n",
    "import seaborn as sns"
   ]
  },
  {
   "cell_type": "markdown",
   "id": "85137d8c",
   "metadata": {},
   "source": [
    "### 막대그래프"
   ]
  },
  {
   "cell_type": "markdown",
   "id": "969d509f",
   "metadata": {},
   "source": [
    "sns.barplot(x='' ,\n",
    "y='' ,\n",
    "data=titanic\n",
    "\n",
    "palette='', # 색 지정\n",
    "\n",
    "hue=None # 추가 구분 범주\n",
    "\n",
    ")\n",
    "\n",
    "\n",
    "sns.countplot(x='범주 이름', data=titanic,\n",
    "\n",
    "hue='추가 구분 범주',\n",
    "\n",
    "dodge=True / False # False면 한 막대에 쌓아서 출력\n",
    "\n",
    ")"
   ]
  },
  {
   "cell_type": "markdown",
   "id": "353a024e",
   "metadata": {},
   "source": [
    "### 박스플롯"
   ]
  },
  {
   "cell_type": "markdown",
   "id": "3b96c864",
   "metadata": {},
   "source": [
    "sns.boxplot(x='', y='', data= , \n",
    "\n",
    "hue='',\n",
    "\n",
    ")"
   ]
  },
  {
   "cell_type": "markdown",
   "id": "22ee3267",
   "metadata": {},
   "source": [
    "### 바이올린 플롯"
   ]
  },
  {
   "cell_type": "markdown",
   "id": "ec6f8152",
   "metadata": {},
   "source": [
    "sns.violinplot(data= , x='', y='',\n",
    "\n",
    "hue='',\n",
    "\n",
    "inner='quartile',\n",
    "\n",
    "split=True # hue가 2개 범주일 때 각 플롯이 hue범주에 따라 반반으로 나뉨\n",
    "\n",
    ")"
   ]
  },
  {
   "cell_type": "markdown",
   "id": "45f0d597",
   "metadata": {},
   "source": [
    "### pairplot"
   ]
  },
  {
   "cell_type": "markdown",
   "id": "8083af0f",
   "metadata": {},
   "source": [
    "sns.pairplot(df)"
   ]
  },
  {
   "cell_type": "markdown",
   "id": "ab3c48f5",
   "metadata": {},
   "source": [
    "### 히트맵"
   ]
  },
  {
   "cell_type": "markdown",
   "id": "9df13a49",
   "metadata": {},
   "source": [
    "sns.heatmap(df,\n",
    "\n",
    "annot=True, # 데이터 값 표시 유무\n",
    "\n",
    "cmap=' ', #색상\n",
    "\n",
    "fmt=' ' , #포멧 지점\n",
    "\n",
    "linewidths=3 # 박스 사이 간격\n",
    "\n",
    ")"
   ]
  },
  {
   "cell_type": "markdown",
   "id": "107e5dca",
   "metadata": {},
   "source": [
    "---------------------------------------------------------------"
   ]
  },
  {
   "cell_type": "markdown",
   "id": "14c41352",
   "metadata": {},
   "source": [
    "# plotly\n",
    "import plotly.express as px"
   ]
  },
  {
   "cell_type": "markdown",
   "id": "80f27300",
   "metadata": {},
   "source": [
    "px.data.gapminder()\n",
    "\n",
    "px.data.tips()\n",
    "\n",
    "px.data.election()"
   ]
  },
  {
   "cell_type": "markdown",
   "id": "e9705b52",
   "metadata": {},
   "source": [
    "### 선 그래프"
   ]
  },
  {
   "cell_type": "markdown",
   "id": "6c72cf2b",
   "metadata": {},
   "source": [
    "df = px.data.gapminder().query(\" a=='korea' \")\n",
    "\n",
    "\n",
    "fig = px.line(df, x='year', y='life', title= 'abc',\n",
    "\n",
    "color_discrete_sequence=['red'], #색 지정\n",
    "\n",
    "color='범주명', # 범주에 따른 색 구별\n",
    "\n",
    ")\n",
    "\n",
    "\n",
    "fig.show()\n",
    "\n",
    "\n"
   ]
  },
  {
   "cell_type": "markdown",
   "id": "bfbcca1b",
   "metadata": {},
   "source": [
    "### 막대 그래프"
   ]
  },
  {
   "cell_type": "markdown",
   "id": "d51ef97e",
   "metadata": {},
   "source": [
    "df = px.data.gapminder().query(\" a=='korea' \")\n",
    "\n",
    "fig = px.bar(df, x='year', y='pop', title = '대한민국 연도별 인구변화'\n",
    "\n",
    "hover_data=['a', 'b'], # 추가 정보\n",
    "\n",
    "color='변수', # 변수별 색상 추가\n",
    "\n",
    "labels = {'y': 'y축 라벨'}\n",
    "\n",
    "barmode='group', # 지정하지 않으면 color로 지정된 변수가 누적식 막대로 표현됨\n",
    "\n",
    "height=400,\n",
    "\n",
    "facet_row = 'time', #범주 별 행 나누기\n",
    "\n",
    "facet_col = 'day', # 범주 별 열 나누기\n",
    "\n",
    "category_orders = {'day' : ['월','화','수','목'], 'time' : ['오전','오후'] } # facet범주 순서 지정\n",
    "\n",
    "animation_frame='year', animationn_group = 'country' # 년도별 애니메이션, 나라별 그룹\n",
    "\n",
    "range_y = [최소,최대] # y범위\n",
    "\n",
    ")\n",
    "\n",
    "fig.show()"
   ]
  },
  {
   "cell_type": "markdown",
   "id": "49abfc8d",
   "metadata": {},
   "source": [
    "### 산점도"
   ]
  },
  {
   "cell_type": "markdown",
   "id": "78259a28",
   "metadata": {},
   "source": [
    "iris = px.data.iris()\n",
    "\n",
    "fig=px.scatter(iris, x='a', y='b',\n",
    "\n",
    "color='species',\n",
    "\n",
    "size='c',\n",
    "\n",
    "log_x=True # x축 로그 변환\n",
    "\n",
    "size_max=55, # 버블 크기 최대치 설정\n",
    "\n",
    "animation_frame='년도' , animation_group ='국가', # 버블 차트 애니메이션 설정\n",
    "\n",
    "range_x =[최소, 최대], range_y=[최소, 최대] # 버블 차트시 x,y 범위 꼭 지정해야함\n",
    "\n",
    "\n",
    "hover_name='country' # 팝업 창 제목에 나라이름 표시\n",
    "\n",
    ")\n",
    "\n",
    "fig.show()"
   ]
  },
  {
   "cell_type": "markdown",
   "id": "9b664175",
   "metadata": {},
   "source": [
    "### 파이 차트"
   ]
  },
  {
   "cell_type": "markdown",
   "id": "d4e5e54a",
   "metadata": {},
   "source": [
    "df = px.data.gapminder().query('year==2007').query('continent==\"asia\"')\n",
    "\n",
    "fig=px.pie(df, values='a', names='b', # names 옵션에 따라 파이 생성\n",
    "\n",
    "title=' ',\n",
    "\n",
    ")\n",
    "\n",
    "fig.show()"
   ]
  },
  {
   "cell_type": "markdown",
   "id": "ce22de2c",
   "metadata": {},
   "source": [
    "### 히스토그램"
   ]
  },
  {
   "cell_type": "markdown",
   "id": "81aca67d",
   "metadata": {},
   "source": [
    "px.histogrom(df, x='', title='',\n",
    "\n",
    "nbins=20,\n",
    "\n",
    "histnorm='probability density',\n",
    "\n",
    "labels={'x': 'x라벨'),\n",
    "\n",
    "opacity= 투명도\n",
    "\n",
    "color_discrete_sequence=['색이름']\n",
    "\n",
    "\n",
    "color='범주명'\n",
    "\n",
    ")\n",
    "\n",
    "fig.show()\n"
   ]
  },
  {
   "cell_type": "markdown",
   "id": "498f8a23",
   "metadata": {},
   "source": [
    "### boxplot: px.box(df,x,y,color_discrete_sequence, color, opacity,,,)"
   ]
  },
  {
   "cell_type": "markdown",
   "id": "37126d8d",
   "metadata": {},
   "source": [
    "### 바이올린 플롯: px.violin(df, x, y, title, names, points, color_discrete_sequence, color, opacity...)"
   ]
  },
  {
   "cell_type": "markdown",
   "id": "77d4a628",
   "metadata": {},
   "source": [
    "### radar chart : px.line_polar(df, r='변수'(변수크기지정) , theta='theta'(시계방향으로지정), line_close=True,False)"
   ]
  },
  {
   "cell_type": "markdown",
   "id": "0a7558c8",
   "metadata": {},
   "source": [
    "### px.funnel() : 프로세스 데이터 나타낼 때"
   ]
  },
  {
   "cell_type": "markdown",
   "id": "40819be9",
   "metadata": {},
   "source": [
    "### px.scatter_ternary() : 물질 구성하는 성분 비중 분석할 때 (삼각형+산점도)"
   ]
  }
 ],
 "metadata": {
  "kernelspec": {
   "display_name": "Python 3",
   "language": "python",
   "name": "python3"
  },
  "language_info": {
   "codemirror_mode": {
    "name": "ipython",
    "version": 3
   },
   "file_extension": ".py",
   "mimetype": "text/x-python",
   "name": "python",
   "nbconvert_exporter": "python",
   "pygments_lexer": "ipython3",
   "version": "3.8.8"
  }
 },
 "nbformat": 4,
 "nbformat_minor": 5
}
