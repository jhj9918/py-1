{
  "nbformat": 4,
  "nbformat_minor": 0,
  "metadata": {
    "colab": {
      "name": "병렬처리.ipynb",
      "provenance": []
    },
    "kernelspec": {
      "name": "python3",
      "display_name": "Python 3"
    },
    "language_info": {
      "name": "python"
    }
  },
  "cells": [
    {
      "cell_type": "code",
      "execution_count": null,
      "metadata": {
        "id": "9ASyBxhI76Q6"
      },
      "outputs": [],
      "source": [
        "병렬 처리 예시\n",
        "\n",
        "import pandas as pd\n",
        "import numpy as np\n",
        "from multiprocessing import Pool\n",
        "\n",
        "## 시범 데이터 생성\n",
        "df = pd.DataFrame({'date':pd.date_range('2019-01-01','2020-12-31',freq='1min')})\n",
        "\n",
        "\n",
        "## 전처리를 적용할 함수\n",
        "def make_time(data):\n",
        "    data['time'] = data['date'].apply(lambda x : str(x)[-9:])\n",
        "    return data\n",
        "\n",
        "\n",
        "## 병렬 처리 함수\n",
        "def parallel_df(df,func,n_cores):\n",
        "    \n",
        "    # 데이터 프레임 리스트 형태로 3개로 나누기\n",
        "    df_split = np.array_split(df,n_cores)\n",
        "    \n",
        "    # 병렬 처리로 사용할 코어 개수 선택\n",
        "    pool = Pool(n_cores)\n",
        "    \n",
        "    # 병렬 처리로 데이터 프레임을 전처리한 후에 매핑\n",
        "    df = pd.concat(pool.map(func, df_split))\n",
        "    \n",
        "    # 메모리 어쩌구 \n",
        "    pool.close()\n",
        "    pool.join()\n",
        "    return df\n",
        "\n",
        "## 병렬처리 적용\n",
        "df = parallel_df(df,make_time,n_cores=4)\n",
        "\n",
        "\n",
        "\n",
        "<객체 저장>\n",
        "\n",
        "import pickle\n",
        "\n",
        "data = {\n",
        "    'a': [1, 2.0, 3, 4+6j],\n",
        "    'b': (\"character string\", b\"byte string\"),\n",
        "    'c': {None, True, False}\n",
        "}\n",
        "\n",
        "# save\n",
        "with open('data.pickle', 'wb') as f:\n",
        "    pickle.dump(data, f)\n",
        "\n",
        "\n",
        "# load\n",
        "with open('data.pickle', 'rb') as f:\n",
        "    data = pickle.load(f)\n"
      ]
    }
  ]
}