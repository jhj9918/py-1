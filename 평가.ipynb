{
 "cells": [
  {
   "cell_type": "markdown",
   "id": "34ee3bbb",
   "metadata": {},
   "source": [
    "## 데이터 분리"
   ]
  },
  {
   "cell_type": "markdown",
   "id": "db17e846",
   "metadata": {},
   "source": [
    "from sklearn.model_selection import train_test_split\n",
    "\n",
    "X_train, X_test, y_train, y_test = train_test_split(x,y, test_size=0.2, random_state=0)"
   ]
  },
  {
   "cell_type": "markdown",
   "id": "b295c296",
   "metadata": {},
   "source": [
    "## 정확도"
   ]
  },
  {
   "cell_type": "markdown",
   "id": "bad80946",
   "metadata": {},
   "source": [
    "from sklearn.metrics import accuracy_score\n",
    "\n",
    "model.fit(X_train, y_train)\n",
    "\n",
    "pred = model.predict(X_test)\n",
    "\n",
    "accuracy_score(y_test, pred)"
   ]
  },
  {
   "cell_type": "markdown",
   "id": "d1087309",
   "metadata": {},
   "source": [
    "### 여러 지표"
   ]
  },
  {
   "cell_type": "markdown",
   "id": "87163bbf",
   "metadata": {},
   "source": [
    "from sklearn.metrics import confusion_matrix # 혼동 행렬\n",
    " \n",
    "from sklearn.metrics import recall_score # 민감도,재현율\n",
    "\n",
    "from sklearn.metrics import precision_score # 정밀도\n",
    "\n",
    "from sklearn.metrics import f1_score # f1스코어\n",
    "\n",
    "함수(y_test, pred)"
   ]
  },
  {
   "cell_type": "markdown",
   "id": "df41d226",
   "metadata": {},
   "source": [
    "### 임계값 조정 ( 내리면 재현율 상승, 올리면 정밀도 상승)"
   ]
  },
  {
   "cell_type": "markdown",
   "id": "aa722a32",
   "metadata": {},
   "source": [
    "from sklearn.preprocessing import Binarizer\n",
    "\n",
    "model.fit(x_train, y_train)\n",
    "\n",
    "a = model.predict_proba(x_test) # 테스트 데이터의 개별 클래스 예측 확률\n",
    "\n",
    "b = a[:,1].reshape(-1,1)\n",
    "\n",
    "BN = Binarizer(threshold= 임계값).fit(b) # 들어 온 값이 임계 값 이하면 0 , 크면 1 반환\n",
    "\n",
    "new_pred = BN.transform(b)\n",
    "\n",
    "accuracy_score(y_test, new_pred)\n",
    "\n",
    "--------------------------------------------------------------\n",
    "\n",
    "from sklearn.metrics import precision_recall_curve #정밀도, 재현율 곡선\n",
    "\n",
    "precisions, recalls, thresholds = precision_recall_curve(y_test, model.predict_proba(X_test)[:,1])"
   ]
  },
  {
   "cell_type": "markdown",
   "id": "0ef37492",
   "metadata": {},
   "source": [
    "## ROC 커브"
   ]
  },
  {
   "cell_type": "markdown",
   "id": "413c8437",
   "metadata": {},
   "source": [
    "from sklearn.metrics import roc_curve\n",
    "\n",
    "1-특이도(fpr), 민감도(tpr), thresholds = roc_curve(y_test, model.predict_proba(X_test)[:,1])\n",
    "\n",
    "plt.plot(fpr, tpr)\n",
    "\n",
    "plt.plot([0,1],[0,1], 'k--')\n",
    "\n",
    "plt.xlabel('1-특이도', fontsize= )\n",
    "\n",
    "plt.ylabel('민감도', fontsize= )\n",
    "\n",
    "plt.grid(True)\n",
    "\n",
    "plt.legend(loc='best', fontsize= )\n",
    "\n",
    "plt.show()\n",
    "\n",
    "-----------------------------------------------------------------------------------\n",
    "\n",
    "AUC curve # roc 커브의 면적\n",
    "\n",
    "from sklearn.metrics import roc_auc_score\n",
    "\n",
    "roc_auc_score(y_test, model.predict_proba(X_test)[:,1])"
   ]
  }
 ],
 "metadata": {
  "kernelspec": {
   "display_name": "Python 3",
   "language": "python",
   "name": "python3"
  },
  "language_info": {
   "codemirror_mode": {
    "name": "ipython",
    "version": 3
   },
   "file_extension": ".py",
   "mimetype": "text/x-python",
   "name": "python",
   "nbconvert_exporter": "python",
   "pygments_lexer": "ipython3",
   "version": "3.8.8"
  }
 },
 "nbformat": 4,
 "nbformat_minor": 5
}
