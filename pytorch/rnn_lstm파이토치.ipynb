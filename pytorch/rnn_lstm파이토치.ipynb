{
 "cells": [
  {
   "cell_type": "code",
   "execution_count": 1,
   "id": "b24bfb07",
   "metadata": {},
   "outputs": [],
   "source": [
    "import torch\n",
    "import torch.nn as nn\n",
    "from torch.autograd import Variable"
   ]
  },
  {
   "cell_type": "code",
   "execution_count": 2,
   "id": "574a1c8d",
   "metadata": {},
   "outputs": [
    {
     "name": "stdout",
     "output_type": "stream",
     "text": [
      "cpu is available\n"
     ]
    }
   ],
   "source": [
    "device = torch.device('cuda:0' if torch.cuda.is_available() else 'cpu')\n",
    "print(f'{device} is available')"
   ]
  },
  {
   "cell_type": "code",
   "execution_count": null,
   "id": "1277d359",
   "metadata": {},
   "outputs": [],
   "source": [
    "trains = torch.utilsls.data.TensorDataset(torch.FloatTensor(x_train).to(device),\n",
    "                                         torch.FloatTensor(y_train).to(device))\n",
    "\n",
    "test = torch.utilsls.data.TensorDataset(torch.FloatTensor(x_test).to(device),\n",
    "                                         torch.FloatTensor(y_test).to(device))\n",
    "\n",
    "batch_size = 32\n",
    "train_loader = torch.utils.data.DataLoader(dataset=trains, batch_size=batch_size, shuffle=False)\n",
    "test_loader = torch.utils.data.DataLoader(dataset=test, batch_size=batch_size, shuffle=False)"
   ]
  },
  {
   "cell_type": "code",
   "execution_count": 5,
   "id": "963e0b89",
   "metadata": {},
   "outputs": [],
   "source": [
    "# RNN\n",
    "class RNN(nn.Module):\n",
    "    \n",
    "    def __init__(self, input_size, hidden_size, num_classes, num_layers, device):\n",
    "        super(RNN, self).__init__()\n",
    "        \n",
    "        self.device = device # gpu 체크\n",
    "\n",
    "        self.hidden_size = hidden_size # 히든 사이즈\n",
    "        \n",
    "        self.num_layers = num_layers # 레이어 수\n",
    "        \n",
    "        self.num_classes = num_classes # 출력 노드 수\n",
    "        \n",
    "        self.rnn = nn.RNN(input_size, hidden_size, num_layers, batch_first=True)\n",
    "        self.fc = nn.Linear(hidden_size,num_classes)\n",
    "\n",
    "    def forward(self, x):\n",
    "        \n",
    "        h0 = torch.zeros(self.num_layers, x.size()[0], self.hidden_size).to(self.device) # 초기 히든 스테이트 설정\n",
    "        \n",
    "        out, h_out = self.rnn(x, h0)\n",
    "        h_out = h_out.view(-1, self.hidden_size)\n",
    "        output = self.fc(h_out)\n",
    "        return output"
   ]
  },
  {
   "cell_type": "code",
   "execution_count": 6,
   "id": "9541fa5a",
   "metadata": {},
   "outputs": [],
   "source": [
    "# LSTM\n",
    "class LSTM(nn.Module):\n",
    "    \n",
    "    def __init__(self, input_size, hidden_size, num_classes, num_layers, device):\n",
    "        super(LSTM, self).__init__()\n",
    "        \n",
    "        self.device = device # gpu 체크\n",
    "\n",
    "        self.hidden_size = hidden_size # 히든 사이즈\n",
    "        \n",
    "        self.num_layers = num_layers # 레이어 수\n",
    "        \n",
    "        self.input_size = input_size\n",
    "        \n",
    "        self.num_classes = num_classes # 출력 노드 수\n",
    "        \n",
    "        self.lstm = nn.LSTM(input_size=input_size, hidden_size=hidden_size,\n",
    "                            num_layers=num_layers, batch_first=True)\n",
    "        \n",
    "        self.fc = nn.Linear(hidden_size,num_classes) # 출력층\n",
    "\n",
    "    def forward(self, x):\n",
    "        \n",
    "        h0 = torch.zeros(self.num_layers, x.size(0), self.hidden_size).to(self.device) # 초기 히든 스테이트 설정\n",
    "        \n",
    "        c_0 = torch.zeros(self.num_layers, x.size(0), self.hidden_size).to(self.device)\n",
    "        \n",
    "        ula, (h_out, _) = self.lstm(x, (h_0, c_0))\n",
    "        \n",
    "        h_out = h_out.view(-1, self.hidden_size)\n",
    "        \n",
    "        out = self.fc(h_out)\n",
    "        return out"
   ]
  }
 ],
 "metadata": {
  "kernelspec": {
   "display_name": "Python 3 (ipykernel)",
   "language": "python",
   "name": "python3"
  },
  "language_info": {
   "codemirror_mode": {
    "name": "ipython",
    "version": 3
   },
   "file_extension": ".py",
   "mimetype": "text/x-python",
   "name": "python",
   "nbconvert_exporter": "python",
   "pygments_lexer": "ipython3",
   "version": "3.8.8"
  }
 },
 "nbformat": 4,
 "nbformat_minor": 5
}
