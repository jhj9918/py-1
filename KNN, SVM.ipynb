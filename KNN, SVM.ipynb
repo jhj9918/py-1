{
 "cells": [
  {
   "cell_type": "markdown",
   "id": "cdb8ec33",
   "metadata": {},
   "source": [
    "## KNN"
   ]
  },
  {
   "cell_type": "code",
   "execution_count": 1,
   "id": "a37a1dc6",
   "metadata": {},
   "outputs": [],
   "source": [
    "from sklearn.neighbors import KNeighborsClassifier"
   ]
  },
  {
   "cell_type": "code",
   "execution_count": 2,
   "id": "32e2c6d3",
   "metadata": {},
   "outputs": [],
   "source": [
    "from sklearn.model_selection import train_test_split"
   ]
  },
  {
   "cell_type": "markdown",
   "id": "46b03d51",
   "metadata": {},
   "source": [
    "< 최적의 k 찾기(시각화) >\n",
    "\n",
    "from sklearn.model_selection import cross_val_score\n",
    "\n",
    "k_range = np.arange(1,80)\n",
    "\n",
    "k_score = []\n",
    "\n",
    "for k in k_range:\n",
    "    \n",
    "    knn= KNeighborsClassifier(k)\n",
    "    \n",
    "    scores= cross_val_score(knn, df_train[x변수], df_train[y변수],\n",
    "                           cv=10, scoring='accuracy')\n",
    "    \n",
    "    k_score.append(scores.mean())\n",
    "    \n",
    "plt.plot(k_range, k_scores)\n",
    "\n",
    "plt.xlabel('k-value')\n",
    "\n",
    "plt.ylabel('cross-val-accuracy')\n",
    "\n",
    "plt.show()\n",
    "\n",
    "-----------------------------------------------------------------\n",
    "\n",
    "< k 값에 따른 교차검증 결과값 >\n",
    "\n",
    "result = pd.DataFrame()\n",
    "\n",
    "result['k'] = k_range\n",
    "\n",
    "result['accuracy'] = k_scores\n",
    "\n",
    "result.sort_values(by='accuracy', ascending=False)\n",
    "\n",
    "-------------------------------------------------------------------\n",
    "\n",
    "< 최적의 k 로 예측, 평가 >\n",
    "\n",
    "knn = KNeighborsClassifier(n)\n",
    "\n",
    "knn.fit(X_train, y_train)\n",
    "\n",
    "pred = knn.predict(X_test)\n",
    "\n",
    "confusion_matrix(y_test, pred)\n",
    "\n",
    "accuracy_score(y_test, pred)"
   ]
  },
  {
   "cell_type": "markdown",
   "id": "fe815159",
   "metadata": {},
   "source": [
    "## SVM"
   ]
  },
  {
   "cell_type": "markdown",
   "id": "e286581f",
   "metadata": {},
   "source": [
    "c값 크면 마진 낮아지고 과적합 위험(회귀)\n",
    "\n",
    "c값 작으면 마진 높아지고 과소 적합 위험(분류)"
   ]
  },
  {
   "cell_type": "code",
   "execution_count": 4,
   "id": "7656d3c1",
   "metadata": {},
   "outputs": [],
   "source": [
    "from sklearn.svm import SVC\n",
    "import sklearn.metrics as mt\n",
    "from sklearn.model_selection import cross_val_score, cross_validate"
   ]
  },
  {
   "cell_type": "markdown",
   "id": "e2b05e9f",
   "metadata": {},
   "source": [
    "svc = SVC(kernel= 'linear') # 선형 모델\n",
    "\n",
    "scores = cross_val_score(svc, X, y, cv=5) # 전체 데이터 5겹 교차검증\n",
    "\n",
    "scores.mean()\n",
    "\n",
    "print( pd.DataFrame(cross_validate(svc, X, y, cv=5)) )\n",
    "\n",
    "--------------------------------------------------\n",
    "\n",
    "svc = SVC(kernel= 'rbf') # 비선형 모델\n",
    "\n",
    "scores = cross_val_score(svc, X, y, cv=5) # 전체 데이터 5겹 교차검증\n",
    "\n",
    "scores.mean()\n",
    "\n",
    "print( pd.DataFrame(cross_validate(svc, X, y, cv=5)) )"
   ]
  },
  {
   "cell_type": "code",
   "execution_count": 6,
   "id": "b076e796",
   "metadata": {},
   "outputs": [],
   "source": [
    "from sklearn.model_selection import GridSearchCV, train_test_split\n",
    "from sklearn.metrics import classification_report, accuracy_score"
   ]
  },
  {
   "cell_type": "markdown",
   "id": "8d5f47ab",
   "metadata": {},
   "source": [
    "< 최적의 파라미터 찾기( 비선형 선택한 경우 ) >\n",
    "\n",
    "def svc_param_selection(X, y, nfolds) :\n",
    "\n",
    "    svm_params = [\n",
    "        {'kernel':['rbf'],\n",
    "        'gamma':[0.00001, 0.0001, 0.001, 0.01, 0.1, 1],\n",
    "        'C':[0.01, 0.1, 1, 10, 100, 1000]\n",
    "        }\n",
    "    ]\n",
    "    clf = GridSearchCV(SVC(), svm_params, cv=10)\n",
    "    clf.fit(X_train, y_train.values.ravel())\n",
    "    print(clf.best_params_)\n",
    "    return clf\n",
    "\n",
    "clf = svc_param_selection(X_train, y_train.values.ravel(), 10)\n",
    "\n",
    "ravel() : 1차원 배열로 만들기\n",
    "\n",
    "--------------------------------------------------------------------\n",
    "\n",
    "< 시각화 >\n",
    "\n",
    "1. 문자 값 y 를 벡터화\n",
    "\n",
    "2. clf = SVC(C=, gamma= )\n",
    "    \n",
    "    clf.fit(X,y)\n",
    "\n",
    "\n",
    "3. plt.figure(figsize=(18,18))\n",
    "\n",
    "    xx, yy = np.meshgrid(np.linspace(0,4,100), np.linspace(0,4,100))\n",
    "\n",
    "    \n",
    "4. z = clf.decision_function(np.c_[xx.ravel(), yy.ravel()])\n",
    "\n",
    "    z = z.reshape(xx.shape)\n",
    "    \n",
    "    plt.pcolormesh(xx, yy, -z, cmap = plt.cm.RdBu)\n",
    "    \n",
    "    plt.scatter(X['a'], X['b'], c= 벡터화y, cmap=plt.cm.RdBu_r, edgecolors='k')"
   ]
  },
  {
   "cell_type": "markdown",
   "id": "29c6893e",
   "metadata": {},
   "source": [
    "np.c_[a,b] : 두개의 1차원 배열을 2차원 칼럼 배열로 만들기 "
   ]
  }
 ],
 "metadata": {
  "kernelspec": {
   "display_name": "Python 3",
   "language": "python",
   "name": "python3"
  },
  "language_info": {
   "codemirror_mode": {
    "name": "ipython",
    "version": 3
   },
   "file_extension": ".py",
   "mimetype": "text/x-python",
   "name": "python",
   "nbconvert_exporter": "python",
   "pygments_lexer": "ipython3",
   "version": "3.8.8"
  }
 },
 "nbformat": 4,
 "nbformat_minor": 5
}
