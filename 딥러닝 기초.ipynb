{
 "cells": [
  {
   "cell_type": "code",
   "execution_count": 1,
   "id": "acb29a2c",
   "metadata": {},
   "outputs": [],
   "source": [
    "import numpy as np"
   ]
  },
  {
   "cell_type": "code",
   "execution_count": 2,
   "id": "72560bf2",
   "metadata": {},
   "outputs": [],
   "source": [
    "def nand(a,b):\n",
    "    input = np.array([a,b])\n",
    "    weights = np.array([-0.6,-0.5])\n",
    "    bias = 0.7\n",
    "    value = np.sum(input*weights) + bias\n",
    "    \n",
    "    if value <= 0:\n",
    "        return 0\n",
    "    else:\n",
    "        return 1"
   ]
  },
  {
   "cell_type": "code",
   "execution_count": 3,
   "id": "9af07221",
   "metadata": {},
   "outputs": [
    {
     "name": "stdout",
     "output_type": "stream",
     "text": [
      "1\n"
     ]
    }
   ],
   "source": [
    "print(nand(0,0))"
   ]
  },
  {
   "cell_type": "code",
   "execution_count": 4,
   "id": "60588a3d",
   "metadata": {},
   "outputs": [],
   "source": [
    "import matplotlib.pyplot as plt\n",
    "%matplotlib inline\n",
    "plt.style.use('seaborn-whitegrid')"
   ]
  },
  {
   "cell_type": "code",
   "execution_count": 5,
   "id": "14396f4e",
   "metadata": {},
   "outputs": [
    {
     "data": {
      "image/png": "[encoded data removed]",
      "text/plain": [
       "<Figure size 432x288 with 1 Axes>"
      ]
     },
     "metadata": {},
     "output_type": "display_data"
    }
   ],
   "source": [
    "x1 = np.arange(-2,2,0.01)\n",
    "x2 = np.arange(-2,2,0.01)\n",
    "bias = 0.7\n",
    "\n",
    "y = (0.6*x1-bias) / -0.5\n",
    "\n",
    "plt.axvline(x=0)\n",
    "plt.axhline(y=0)\n",
    "\n",
    "plt.plot(x1,y,'r--')\n",
    "\n",
    "plt.scatter(0,0, color='black', marker='o', s=150)\n",
    "plt.scatter(0,1, color='black', marker='^', s=150)\n",
    "plt.scatter(1,0, color='black', marker='^', s=150)\n",
    "plt.scatter(1,1, color='orange', marker='^', s=150)\n",
    "\n",
    "plt.xlim(-0.5, 1.5)\n",
    "plt.ylim(-0.5, 1.5)\n",
    "plt.grid()"
   ]
  },
  {
   "cell_type": "code",
   "execution_count": 6,
   "id": "2d2b7712",
   "metadata": {},
   "outputs": [],
   "source": [
    "def nand(a,b):\n",
    "    input = np.array([a,b])\n",
    "    weights = np.array([-0.6,-0.5])\n",
    "    bias = 0.7\n",
    "    value = np.sum(input*weights) + bias\n",
    "    \n",
    "    if value <= 0:\n",
    "        return 0\n",
    "    else:\n",
    "        return 1"
   ]
  },
  {
   "cell_type": "code",
   "execution_count": 7,
   "id": "a1d3bd39",
   "metadata": {},
   "outputs": [],
   "source": [
    "def AND(a,b):\n",
    "    input = np.array([a,b])\n",
    "    weights = np.array([-0.4,-0.4])\n",
    "    bias = -0.6\n",
    "    value = np.sum(input*weights) + bias\n",
    "    \n",
    "    if value <= 0:\n",
    "        return 0\n",
    "    else:\n",
    "        return 1"
   ]
  },
  {
   "cell_type": "code",
   "execution_count": 8,
   "id": "155d29d5",
   "metadata": {},
   "outputs": [],
   "source": [
    "def OR(a,b):\n",
    "    input = np.array([a,b])\n",
    "    weights = np.array([0.4,0.5])\n",
    "    bias = -0.3\n",
    "    value = np.sum(input*weights) + bias\n",
    "    \n",
    "    if value <= 0:\n",
    "        return 0\n",
    "    else:\n",
    "        return 1"
   ]
  },
  {
   "cell_type": "code",
   "execution_count": 9,
   "id": "e7ad00fc",
   "metadata": {},
   "outputs": [],
   "source": [
    "def XOR(x1,x2):\n",
    "    s1= nand(x1,x2)\n",
    "    s2= OR(x1,x2)\n",
    "    y=AND(s1,s2)\n",
    "    return y"
   ]
  },
  {
   "cell_type": "code",
   "execution_count": 10,
   "id": "a191d584",
   "metadata": {},
   "outputs": [
    {
     "data": {
      "text/plain": [
       "0"
      ]
     },
     "execution_count": 10,
     "metadata": {},
     "output_type": "execute_result"
    }
   ],
   "source": [
    "XOR(0,1)"
   ]
  },
  {
   "cell_type": "code",
   "execution_count": 11,
   "id": "34686e4a",
   "metadata": {},
   "outputs": [],
   "source": [
    "def sigmoid(x):\n",
    "    return 1/(1+np.exp(-x))"
   ]
  },
  {
   "cell_type": "code",
   "execution_count": 12,
   "id": "0b20499d",
   "metadata": {},
   "outputs": [
    {
     "name": "stdout",
     "output_type": "stream",
     "text": [
      "(3, 3)\n",
      "[1.32 1.7  2.08]\n",
      "[0.78918171 0.84553473 0.88894403]\n"
     ]
    }
   ],
   "source": [
    "X = np.array([1.0,0.5,0.4])\n",
    "\n",
    "W1 = np.array([[0.1,0.3,0.5],[0.2,0.4,0.6],[0.3,0.5,0.7]])\n",
    "B1 = np.array([1,1,1])\n",
    "\n",
    "print(W1.shape)\n",
    "\n",
    "A1 = np.dot(X,W1) + B1\n",
    "Z1 = sigmoid(A1)\n",
    "\n",
    "print(A1)\n",
    "print(Z1)"
   ]
  },
  {
   "cell_type": "code",
   "execution_count": 22,
   "id": "af63e4e5",
   "metadata": {},
   "outputs": [
    {
     "name": "stdout",
     "output_type": "stream",
     "text": [
      "(3, 3)\n",
      "[0.83173411 0.89116528 0.93133834]\n"
     ]
    }
   ],
   "source": [
    "W2 = np.array([[0.2,0.4,0.6],[0.1,0.3,0.5],[0.4,0.6,0.8]])\n",
    "B2 = np.array([1,1,1])\n",
    "\n",
    "print(W2.shape)\n",
    "\n",
    "A2 = np.dot(Z1,W2) + B2\n",
    "Z2 = sigmoid(A2)\n",
    "\n",
    "print(Z2)"
   ]
  },
  {
   "cell_type": "code",
   "execution_count": 20,
   "id": "97b9f99d",
   "metadata": {},
   "outputs": [
    {
     "name": "stdout",
     "output_type": "stream",
     "text": [
      "(3, 2)\n",
      "[0.78133419 0.78067542]\n"
     ]
    }
   ],
   "source": [
    "W3 = np.array([[0.1,0.3],[-0.1,-0.5],[0.3,0.5]])\n",
    "B3 = np.array([1,1])\n",
    "\n",
    "print(W3.shape)\n",
    "\n",
    "A3 = np.dot(Z2,W3) + B3\n",
    "Z3 = sigmoid(A3)\n",
    "\n",
    "print(Z3)"
   ]
  },
  {
   "cell_type": "code",
   "execution_count": 23,
   "id": "800a70c0",
   "metadata": {},
   "outputs": [
    {
     "data": {
      "text/plain": [
       "array([0.27345838, 0.26960676])"
      ]
     },
     "execution_count": 23,
     "metadata": {},
     "output_type": "execute_result"
    }
   ],
   "source": [
    "np.dot(Z2,W3)"
   ]
  },
  {
   "cell_type": "code",
   "execution_count": 28,
   "id": "d944bdea",
   "metadata": {},
   "outputs": [
    {
     "data": {
      "text/plain": [
       "array([14, 20])"
      ]
     },
     "execution_count": 28,
     "metadata": {},
     "output_type": "execute_result"
    }
   ],
   "source": [
    "np.dot([1,2,3],[[1,2],[2,3],[3,4]])"
   ]
  },
  {
   "cell_type": "code",
   "execution_count": 29,
   "id": "0ba05c19",
   "metadata": {
    "scrolled": true
   },
   "outputs": [
    {
     "data": {
      "text/plain": [
       "array([14])"
      ]
     },
     "execution_count": 29,
     "metadata": {},
     "output_type": "execute_result"
    }
   ],
   "source": [
    "np.dot([1,2,3],[[1],[2],[3]])"
   ]
  },
  {
   "cell_type": "code",
   "execution_count": 1,
   "id": "73e9e4ea",
   "metadata": {},
   "outputs": [],
   "source": [
    "import numpy as np\n",
    "import tensorflow as tf\n",
    "\n",
    "from tensorflow import keras"
   ]
  },
  {
   "cell_type": "code",
   "execution_count": 3,
   "id": "4fb827d8",
   "metadata": {},
   "outputs": [],
   "source": [
    "from keras.models import Sequential\n",
    "from keras.layers import Dense\n",
    "from keras.datasets import mnist\n",
    "from keras.layers import Dropout\n",
    "import matplotlib.pyplot as plt"
   ]
  },
  {
   "cell_type": "code",
   "execution_count": 4,
   "id": "e0fbda66",
   "metadata": {},
   "outputs": [
    {
     "name": "stdout",
     "output_type": "stream",
     "text": [
      "(60000, 28, 28)\n",
      "(60000,)\n",
      "(10000, 28, 28)\n",
      "(10000,)\n"
     ]
    }
   ],
   "source": [
    "(tr_ip, tr_tg), (te_ip, te_tg) = mnist.load_data()\n",
    "print(tr_ip.shape)\n",
    "print(tr_tg.shape)\n",
    "print(te_ip.shape)\n",
    "print(te_tg.shape)"
   ]
  },
  {
   "cell_type": "code",
   "execution_count": 5,
   "id": "94992559",
   "metadata": {},
   "outputs": [],
   "source": [
    "from sklearn.model_selection import train_test_split\n",
    "\n",
    "tr_ip = tr_ip.reshape(60000, 28*28).astype('float32')/255.0\n",
    "te_ip = te_ip.reshape(10000, 28*28).astype('float32')/255.0\n",
    "tr_tg = keras.utils.to_categorical(tr_tg,10)\n",
    "te_tg = keras.utils.to_categorical(te_tg,10)\n",
    "\n",
    "tf.random.set_seed(3)\n",
    "\n",
    "tr_s, val_s, tr_tg, val_tg = train_test_split(tr_ip, tr_tg, test_size=0.2, random_state=42)"
   ]
  },
  {
   "cell_type": "code",
   "execution_count": 6,
   "id": "a7ad3db4",
   "metadata": {},
   "outputs": [
    {
     "name": "stdout",
     "output_type": "stream",
     "text": [
      "Model: \"6m\"\n",
      "_________________________________________________________________\n",
      " Layer (type)                Output Shape              Param #   \n",
      "=================================================================\n",
      " hidden1 (Dense)             (None, 512)               401920    \n",
      "                                                                 \n",
      " hidden2 (Dense)             (None, 24)                12312     \n",
      "                                                                 \n",
      " dropout (Dropout)           (None, 24)                0         \n",
      "                                                                 \n",
      " output (Dense)              (None, 10)                250       \n",
      "                                                                 \n",
      "=================================================================\n",
      "Total params: 414,482\n",
      "Trainable params: 414,482\n",
      "Non-trainable params: 0\n",
      "_________________________________________________________________\n"
     ]
    }
   ],
   "source": [
    "model = Sequential(name='6m')\n",
    "model.add(Dense(units=512, input_dim=(28*28), activation='relu', name='hidden1'))\n",
    "model.add(Dense(units=24, activation='relu', name='hidden2'))\n",
    "model.add(Dropout(0.25))\n",
    "model.add(Dense(units=10, activation='softmax', name='output'))\n",
    "model.summary()"
   ]
  },
  {
   "cell_type": "code",
   "execution_count": 7,
   "id": "aafe3133",
   "metadata": {},
   "outputs": [],
   "source": [
    "model.compile(optimizer='adam', loss='categorical_crossentropy', metrics=['accuracy'])"
   ]
  },
  {
   "cell_type": "code",
   "execution_count": 8,
   "id": "36ea49f5",
   "metadata": {},
   "outputs": [],
   "source": [
    "model.save('model-whole.h5')"
   ]
  },
  {
   "cell_type": "code",
   "execution_count": 13,
   "id": "387a4f84",
   "metadata": {},
   "outputs": [],
   "source": [
    "model = keras.models.load_model('model-whole.h5')"
   ]
  },
  {
   "cell_type": "code",
   "execution_count": 14,
   "id": "f93e0696",
   "metadata": {},
   "outputs": [],
   "source": [
    "cp = keras.callbacks.ModelCheckpoint('model-whole.h5')"
   ]
  },
  {
   "cell_type": "code",
   "execution_count": 15,
   "id": "0210e179",
   "metadata": {},
   "outputs": [],
   "source": [
    "from keras.callbacks import EarlyStopping\n",
    "e_stop = keras.callbacks.EarlyStopping(patience=2, restore_best_weights=True)"
   ]
  },
  {
   "cell_type": "code",
   "execution_count": 16,
   "id": "9740a1c5",
   "metadata": {},
   "outputs": [
    {
     "name": "stdout",
     "output_type": "stream",
     "text": [
      "Epoch 1/10\n",
      "1050/1050 [==============================] - 6s 5ms/step - loss: 0.4264 - accuracy: 0.8696 - val_loss: 0.1533 - val_accuracy: 0.9557\n",
      "Epoch 2/10\n",
      "1050/1050 [==============================] - 6s 5ms/step - loss: 0.1897 - accuracy: 0.9464 - val_loss: 0.1171 - val_accuracy: 0.9635\n",
      "Epoch 3/10\n",
      "1050/1050 [==============================] - 5s 5ms/step - loss: 0.1301 - accuracy: 0.9633 - val_loss: 0.1016 - val_accuracy: 0.9694\n",
      "Epoch 4/10\n",
      "1050/1050 [==============================] - 5s 5ms/step - loss: 0.0967 - accuracy: 0.9721 - val_loss: 0.0954 - val_accuracy: 0.9714\n",
      "Epoch 5/10\n",
      "1050/1050 [==============================] - 6s 5ms/step - loss: 0.0756 - accuracy: 0.9785 - val_loss: 0.0952 - val_accuracy: 0.9728\n",
      "Epoch 6/10\n",
      "1050/1050 [==============================] - 5s 5ms/step - loss: 0.0658 - accuracy: 0.9814 - val_loss: 0.1134 - val_accuracy: 0.9704\n",
      "Epoch 7/10\n",
      "1050/1050 [==============================] - 5s 5ms/step - loss: 0.0548 - accuracy: 0.9831 - val_loss: 0.1115 - val_accuracy: 0.9710\n"
     ]
    }
   ],
   "source": [
    "from keras import callbacks\n",
    "history = model.fit(tr_s, tr_tg, epochs=10, validation_split=0.3, callbacks=[cp, e_stop])"
   ]
  },
  {
   "cell_type": "code",
   "execution_count": 17,
   "id": "4007a550",
   "metadata": {},
   "outputs": [
    {
     "name": "stdout",
     "output_type": "stream",
     "text": [
      "375/375 [==============================] - 1s 2ms/step - loss: 0.0988 - accuracy: 0.9724\n"
     ]
    },
    {
     "data": {
      "text/plain": [
       "[0.09875666350126266, 0.9724166393280029]"
      ]
     },
     "execution_count": 17,
     "metadata": {},
     "output_type": "execute_result"
    }
   ],
   "source": [
    "model.evaluate(val_s, val_tg)"
   ]
  },
  {
   "cell_type": "code",
   "execution_count": 18,
   "id": "051a9925",
   "metadata": {},
   "outputs": [
    {
     "name": "stdout",
     "output_type": "stream",
     "text": [
      "6\n"
     ]
    }
   ],
   "source": [
    "print(e_stop.stopped_epoch)"
   ]
  },
  {
   "cell_type": "code",
   "execution_count": 20,
   "id": "6bb91cc7",
   "metadata": {},
   "outputs": [
    {
     "data": {
      "image/png": "[encoded data removed]",
      "text/plain": [
       "<Figure size 432x288 with 1 Axes>"
      ]
     },
     "metadata": {
      "needs_background": "light"
     },
     "output_type": "display_data"
    }
   ],
   "source": [
    "plt.plot(history.history['loss'])\n",
    "plt.plot(history.history['val_loss'])\n",
    "\n",
    "plt.xlabel('epoch')\n",
    "plt.ylabel('loss')\n",
    "plt.legend(['train', 'val'])\n",
    "plt.show()"
   ]
  },
  {
   "cell_type": "code",
   "execution_count": 23,
   "id": "d7669235",
   "metadata": {},
   "outputs": [
    {
     "name": "stdout",
     "output_type": "stream",
     "text": [
      "313/313 [==============================] - 1s 3ms/step - loss: 0.0878 - accuracy: 0.9745\n",
      "test loss : 0.0878\n",
      "test accuracy : 0.975\n"
     ]
    }
   ],
   "source": [
    "loss, accuracy = model.evaluate(te_ip, te_tg)\n",
    "print(f'test loss : {loss:.3}')\n",
    "print(f'test accuracy : {accuracy:.3}')"
   ]
  },
  {
   "cell_type": "code",
   "execution_count": null,
   "id": "1fcfa1c3",
   "metadata": {},
   "outputs": [],
   "source": []
  }
 ],
 "metadata": {
  "kernelspec": {
   "display_name": "Python 3 (ipykernel)",
   "language": "python",
   "name": "python3"
  },
  "language_info": {
   "codemirror_mode": {
    "name": "ipython",
    "version": 3
   },
   "file_extension": ".py",
   "mimetype": "text/x-python",
   "name": "python",
   "nbconvert_exporter": "python",
   "pygments_lexer": "ipython3",
   "version": "3.8.8"
  }
 },
 "nbformat": 4,
 "nbformat_minor": 5
}
